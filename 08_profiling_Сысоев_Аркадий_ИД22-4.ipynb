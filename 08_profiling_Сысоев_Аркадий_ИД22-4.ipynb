{
 "cells": [
  {
   "cell_type": "markdown",
   "metadata": {},
   "source": [
    "## Оптимизация выполнения кода, векторизация, Numba"
   ]
  },
  {
   "cell_type": "markdown",
   "metadata": {},
   "source": [
    "Материалы:\n",
    "* Макрушин С.В. Лекция 3: Оптимизация выполнения кода, векторизация, Numba\n",
    "* IPython Cookbook, Second Edition (2018), глава 4\n",
    "* https://numba.pydata.org/numba-doc/latest/user/5minguide.html"
   ]
  },
  {
   "cell_type": "markdown",
   "metadata": {},
   "source": [
    "## Задачи для совместного разбора"
   ]
  },
  {
   "cell_type": "markdown",
   "metadata": {},
   "source": [
    "1. Сгенерируйте массив `A` из `N=1млн` случайных целых чисел на отрезке от 0 до 1000. Пусть `B[i] = A[i] + 100`. Посчитайте среднее значение массива `B`."
   ]
  },
  {
   "cell_type": "code",
   "execution_count": 1,
   "metadata": {},
   "outputs": [],
   "source": [
    "import numpy as np"
   ]
  },
  {
   "cell_type": "code",
   "execution_count": 2,
   "metadata": {},
   "outputs": [
    {
     "data": {
      "text/plain": [
       "599.84719"
      ]
     },
     "execution_count": 2,
     "metadata": {},
     "output_type": "execute_result"
    }
   ],
   "source": [
    "A = np.random.randint(0, 1001, size=1_000_000)\n",
    "A\n",
    "\n",
    "def f1(A):\n",
    "    acc, cnt = 0, 0\n",
    "    for x in A:\n",
    "        b = x + 100\n",
    "        acc += b\n",
    "        cnt += 1\n",
    "    return acc / cnt\n",
    "\n",
    "f1(A)"
   ]
  },
  {
   "cell_type": "code",
   "execution_count": 3,
   "metadata": {},
   "outputs": [
    {
     "name": "stdout",
     "output_type": "stream",
     "text": [
      "Wall time: 200 ms\n"
     ]
    },
    {
     "data": {
      "text/plain": [
       "599.84719"
      ]
     },
     "execution_count": 3,
     "metadata": {},
     "output_type": "execute_result"
    }
   ],
   "source": [
    "%%time\n",
    "# время выполнения всей ячейки\n",
    "f1(A)"
   ]
  },
  {
   "cell_type": "code",
   "execution_count": 4,
   "metadata": {},
   "outputs": [
    {
     "name": "stdout",
     "output_type": "stream",
     "text": [
      "Wall time: 207 ms\n"
     ]
    },
    {
     "data": {
      "text/plain": [
       "599.84719"
      ]
     },
     "execution_count": 4,
     "metadata": {},
     "output_type": "execute_result"
    }
   ],
   "source": [
    "%time f1(A) # на уровне 1 строчки"
   ]
  },
  {
   "cell_type": "code",
   "execution_count": 5,
   "metadata": {},
   "outputs": [
    {
     "name": "stdout",
     "output_type": "stream",
     "text": [
      "191 ms ± 9.65 ms per loop (mean ± std. dev. of 7 runs, 1 loop each)\n"
     ]
    }
   ],
   "source": [
    "%%timeit\n",
    "f1(A)"
   ]
  },
  {
   "cell_type": "code",
   "execution_count": 6,
   "metadata": {},
   "outputs": [],
   "source": [
    "def f2(A):\n",
    "    acc, cnt = 0, len(A)\n",
    "    for x in A:\n",
    "        acc += x\n",
    "    return acc / cnt + 100"
   ]
  },
  {
   "cell_type": "code",
   "execution_count": 7,
   "metadata": {},
   "outputs": [
    {
     "name": "stdout",
     "output_type": "stream",
     "text": [
      "Wall time: 60 ms\n"
     ]
    },
    {
     "data": {
      "text/plain": [
       "599.84719"
      ]
     },
     "execution_count": 7,
     "metadata": {},
     "output_type": "execute_result"
    }
   ],
   "source": [
    "%%time\n",
    "f2(A)"
   ]
  },
  {
   "cell_type": "code",
   "execution_count": 8,
   "metadata": {},
   "outputs": [],
   "source": [
    "def f3(A):\n",
    "    return np.mean(A) + 100"
   ]
  },
  {
   "cell_type": "code",
   "execution_count": 9,
   "metadata": {},
   "outputs": [
    {
     "name": "stdout",
     "output_type": "stream",
     "text": [
      "Wall time: 0 ns\n"
     ]
    },
    {
     "data": {
      "text/plain": [
       "599.84719"
      ]
     },
     "execution_count": 9,
     "metadata": {},
     "output_type": "execute_result"
    }
   ],
   "source": [
    "%%time\n",
    "f3(A)"
   ]
  },
  {
   "cell_type": "code",
   "execution_count": 10,
   "metadata": {},
   "outputs": [],
   "source": [
    "%load_ext line_profiler"
   ]
  },
  {
   "cell_type": "code",
   "execution_count": 11,
   "metadata": {},
   "outputs": [],
   "source": [
    "%lprun -f f1 f1(A)"
   ]
  },
  {
   "cell_type": "markdown",
   "metadata": {},
   "source": [
    "2. Создайте таблицу 2млн строк и с 4 столбцами, заполненными случайными числами. Добавьте столбец `key`, которые содержит элементы из множества английских букв. Выберите из таблицы подмножество строк, для которых в столбце `key` указаны первые 5 английских букв."
   ]
  },
  {
   "cell_type": "code",
   "execution_count": 12,
   "metadata": {},
   "outputs": [
    {
     "data": {
      "text/html": [
       "<div>\n",
       "<style scoped>\n",
       "    .dataframe tbody tr th:only-of-type {\n",
       "        vertical-align: middle;\n",
       "    }\n",
       "\n",
       "    .dataframe tbody tr th {\n",
       "        vertical-align: top;\n",
       "    }\n",
       "\n",
       "    .dataframe thead th {\n",
       "        text-align: right;\n",
       "    }\n",
       "</style>\n",
       "<table border=\"1\" class=\"dataframe\">\n",
       "  <thead>\n",
       "    <tr style=\"text-align: right;\">\n",
       "      <th></th>\n",
       "      <th>col0</th>\n",
       "      <th>col1</th>\n",
       "      <th>col2</th>\n",
       "      <th>col3</th>\n",
       "      <th>key</th>\n",
       "    </tr>\n",
       "  </thead>\n",
       "  <tbody>\n",
       "    <tr>\n",
       "      <th>0</th>\n",
       "      <td>0.521787</td>\n",
       "      <td>0.121821</td>\n",
       "      <td>0.469935</td>\n",
       "      <td>-1.722854</td>\n",
       "      <td>r</td>\n",
       "    </tr>\n",
       "    <tr>\n",
       "      <th>1</th>\n",
       "      <td>0.110852</td>\n",
       "      <td>0.581068</td>\n",
       "      <td>1.124203</td>\n",
       "      <td>1.724269</td>\n",
       "      <td>t</td>\n",
       "    </tr>\n",
       "  </tbody>\n",
       "</table>\n",
       "</div>"
      ],
      "text/plain": [
       "       col0      col1      col2      col3 key\n",
       "0  0.521787  0.121821  0.469935 -1.722854   r\n",
       "1  0.110852  0.581068  1.124203  1.724269   t"
      ]
     },
     "execution_count": 12,
     "metadata": {},
     "output_type": "execute_result"
    }
   ],
   "source": [
    "import pandas as pd\n",
    "import string\n",
    "\n",
    "N = 2_000_000\n",
    "df = pd.DataFrame(np.random.randn(N, 4), columns=[f\"col{i}\" for i in range(4)])\n",
    "df[\"key\"] = np.random.choice(list(string.ascii_letters.lower()), N, replace=True)\n",
    "df.head(2)"
   ]
  },
  {
   "cell_type": "code",
   "execution_count": 13,
   "metadata": {},
   "outputs": [],
   "source": [
    "def g1(df):\n",
    "    mask = []\n",
    "    for _, row in df.iterrows():\n",
    "        if row[\"key\"] in {\"a\", \"b\", \"c\", \"d\", \"e\"}:\n",
    "            mask.append(True)\n",
    "        else:\n",
    "            mask.append(False)\n",
    "    r = df[mask]\n",
    "    return r"
   ]
  },
  {
   "cell_type": "code",
   "execution_count": 14,
   "metadata": {},
   "outputs": [
    {
     "name": "stdout",
     "output_type": "stream",
     "text": [
      "Wall time: 3min 21s\n"
     ]
    },
    {
     "data": {
      "text/html": [
       "<div>\n",
       "<style scoped>\n",
       "    .dataframe tbody tr th:only-of-type {\n",
       "        vertical-align: middle;\n",
       "    }\n",
       "\n",
       "    .dataframe tbody tr th {\n",
       "        vertical-align: top;\n",
       "    }\n",
       "\n",
       "    .dataframe thead th {\n",
       "        text-align: right;\n",
       "    }\n",
       "</style>\n",
       "<table border=\"1\" class=\"dataframe\">\n",
       "  <thead>\n",
       "    <tr style=\"text-align: right;\">\n",
       "      <th></th>\n",
       "      <th>col0</th>\n",
       "      <th>col1</th>\n",
       "      <th>col2</th>\n",
       "      <th>col3</th>\n",
       "      <th>key</th>\n",
       "    </tr>\n",
       "  </thead>\n",
       "  <tbody>\n",
       "    <tr>\n",
       "      <th>7</th>\n",
       "      <td>0.589930</td>\n",
       "      <td>-0.320719</td>\n",
       "      <td>0.831536</td>\n",
       "      <td>2.555476</td>\n",
       "      <td>a</td>\n",
       "    </tr>\n",
       "    <tr>\n",
       "      <th>12</th>\n",
       "      <td>-0.466565</td>\n",
       "      <td>-0.467890</td>\n",
       "      <td>0.543636</td>\n",
       "      <td>0.442092</td>\n",
       "      <td>c</td>\n",
       "    </tr>\n",
       "    <tr>\n",
       "      <th>13</th>\n",
       "      <td>-0.064274</td>\n",
       "      <td>1.430865</td>\n",
       "      <td>-1.012040</td>\n",
       "      <td>1.418107</td>\n",
       "      <td>e</td>\n",
       "    </tr>\n",
       "    <tr>\n",
       "      <th>17</th>\n",
       "      <td>1.259945</td>\n",
       "      <td>-0.203664</td>\n",
       "      <td>-0.819146</td>\n",
       "      <td>2.202384</td>\n",
       "      <td>c</td>\n",
       "    </tr>\n",
       "    <tr>\n",
       "      <th>35</th>\n",
       "      <td>0.628336</td>\n",
       "      <td>0.196329</td>\n",
       "      <td>0.743559</td>\n",
       "      <td>2.295062</td>\n",
       "      <td>b</td>\n",
       "    </tr>\n",
       "    <tr>\n",
       "      <th>...</th>\n",
       "      <td>...</td>\n",
       "      <td>...</td>\n",
       "      <td>...</td>\n",
       "      <td>...</td>\n",
       "      <td>...</td>\n",
       "    </tr>\n",
       "    <tr>\n",
       "      <th>1999974</th>\n",
       "      <td>0.729830</td>\n",
       "      <td>0.707624</td>\n",
       "      <td>0.111283</td>\n",
       "      <td>-0.784053</td>\n",
       "      <td>b</td>\n",
       "    </tr>\n",
       "    <tr>\n",
       "      <th>1999976</th>\n",
       "      <td>0.373706</td>\n",
       "      <td>-1.336258</td>\n",
       "      <td>-0.525003</td>\n",
       "      <td>0.171614</td>\n",
       "      <td>c</td>\n",
       "    </tr>\n",
       "    <tr>\n",
       "      <th>1999979</th>\n",
       "      <td>0.731129</td>\n",
       "      <td>-0.906252</td>\n",
       "      <td>-0.731687</td>\n",
       "      <td>-0.508199</td>\n",
       "      <td>d</td>\n",
       "    </tr>\n",
       "    <tr>\n",
       "      <th>1999989</th>\n",
       "      <td>-0.428265</td>\n",
       "      <td>-1.128659</td>\n",
       "      <td>0.991428</td>\n",
       "      <td>-0.077673</td>\n",
       "      <td>a</td>\n",
       "    </tr>\n",
       "    <tr>\n",
       "      <th>1999990</th>\n",
       "      <td>0.950467</td>\n",
       "      <td>-1.088105</td>\n",
       "      <td>-0.938710</td>\n",
       "      <td>-0.705287</td>\n",
       "      <td>c</td>\n",
       "    </tr>\n",
       "  </tbody>\n",
       "</table>\n",
       "<p>384413 rows × 5 columns</p>\n",
       "</div>"
      ],
      "text/plain": [
       "             col0      col1      col2      col3 key\n",
       "7        0.589930 -0.320719  0.831536  2.555476   a\n",
       "12      -0.466565 -0.467890  0.543636  0.442092   c\n",
       "13      -0.064274  1.430865 -1.012040  1.418107   e\n",
       "17       1.259945 -0.203664 -0.819146  2.202384   c\n",
       "35       0.628336  0.196329  0.743559  2.295062   b\n",
       "...           ...       ...       ...       ...  ..\n",
       "1999974  0.729830  0.707624  0.111283 -0.784053   b\n",
       "1999976  0.373706 -1.336258 -0.525003  0.171614   c\n",
       "1999979  0.731129 -0.906252 -0.731687 -0.508199   d\n",
       "1999989 -0.428265 -1.128659  0.991428 -0.077673   a\n",
       "1999990  0.950467 -1.088105 -0.938710 -0.705287   c\n",
       "\n",
       "[384413 rows x 5 columns]"
      ]
     },
     "execution_count": 14,
     "metadata": {},
     "output_type": "execute_result"
    }
   ],
   "source": [
    "%%time\n",
    "g1(df)"
   ]
  },
  {
   "cell_type": "code",
   "execution_count": 15,
   "metadata": {},
   "outputs": [],
   "source": [
    "%lprun -f g1 g1(df.head(20_000))"
   ]
  },
  {
   "cell_type": "code",
   "execution_count": 16,
   "metadata": {},
   "outputs": [],
   "source": [
    "def g2(df):\n",
    "    mask = df[\"key\"].isin({\"a\", \"b\", \"c\", \"d\", \"e\"})\n",
    "    return df[mask]"
   ]
  },
  {
   "cell_type": "code",
   "execution_count": 17,
   "metadata": {},
   "outputs": [
    {
     "name": "stdout",
     "output_type": "stream",
     "text": [
      "Wall time: 530 ms\n"
     ]
    },
    {
     "data": {
      "text/html": [
       "<div>\n",
       "<style scoped>\n",
       "    .dataframe tbody tr th:only-of-type {\n",
       "        vertical-align: middle;\n",
       "    }\n",
       "\n",
       "    .dataframe tbody tr th {\n",
       "        vertical-align: top;\n",
       "    }\n",
       "\n",
       "    .dataframe thead th {\n",
       "        text-align: right;\n",
       "    }\n",
       "</style>\n",
       "<table border=\"1\" class=\"dataframe\">\n",
       "  <thead>\n",
       "    <tr style=\"text-align: right;\">\n",
       "      <th></th>\n",
       "      <th>col0</th>\n",
       "      <th>col1</th>\n",
       "      <th>col2</th>\n",
       "      <th>col3</th>\n",
       "      <th>key</th>\n",
       "    </tr>\n",
       "  </thead>\n",
       "  <tbody>\n",
       "    <tr>\n",
       "      <th>7</th>\n",
       "      <td>0.589930</td>\n",
       "      <td>-0.320719</td>\n",
       "      <td>0.831536</td>\n",
       "      <td>2.555476</td>\n",
       "      <td>a</td>\n",
       "    </tr>\n",
       "    <tr>\n",
       "      <th>12</th>\n",
       "      <td>-0.466565</td>\n",
       "      <td>-0.467890</td>\n",
       "      <td>0.543636</td>\n",
       "      <td>0.442092</td>\n",
       "      <td>c</td>\n",
       "    </tr>\n",
       "    <tr>\n",
       "      <th>13</th>\n",
       "      <td>-0.064274</td>\n",
       "      <td>1.430865</td>\n",
       "      <td>-1.012040</td>\n",
       "      <td>1.418107</td>\n",
       "      <td>e</td>\n",
       "    </tr>\n",
       "    <tr>\n",
       "      <th>17</th>\n",
       "      <td>1.259945</td>\n",
       "      <td>-0.203664</td>\n",
       "      <td>-0.819146</td>\n",
       "      <td>2.202384</td>\n",
       "      <td>c</td>\n",
       "    </tr>\n",
       "    <tr>\n",
       "      <th>35</th>\n",
       "      <td>0.628336</td>\n",
       "      <td>0.196329</td>\n",
       "      <td>0.743559</td>\n",
       "      <td>2.295062</td>\n",
       "      <td>b</td>\n",
       "    </tr>\n",
       "    <tr>\n",
       "      <th>...</th>\n",
       "      <td>...</td>\n",
       "      <td>...</td>\n",
       "      <td>...</td>\n",
       "      <td>...</td>\n",
       "      <td>...</td>\n",
       "    </tr>\n",
       "    <tr>\n",
       "      <th>1999974</th>\n",
       "      <td>0.729830</td>\n",
       "      <td>0.707624</td>\n",
       "      <td>0.111283</td>\n",
       "      <td>-0.784053</td>\n",
       "      <td>b</td>\n",
       "    </tr>\n",
       "    <tr>\n",
       "      <th>1999976</th>\n",
       "      <td>0.373706</td>\n",
       "      <td>-1.336258</td>\n",
       "      <td>-0.525003</td>\n",
       "      <td>0.171614</td>\n",
       "      <td>c</td>\n",
       "    </tr>\n",
       "    <tr>\n",
       "      <th>1999979</th>\n",
       "      <td>0.731129</td>\n",
       "      <td>-0.906252</td>\n",
       "      <td>-0.731687</td>\n",
       "      <td>-0.508199</td>\n",
       "      <td>d</td>\n",
       "    </tr>\n",
       "    <tr>\n",
       "      <th>1999989</th>\n",
       "      <td>-0.428265</td>\n",
       "      <td>-1.128659</td>\n",
       "      <td>0.991428</td>\n",
       "      <td>-0.077673</td>\n",
       "      <td>a</td>\n",
       "    </tr>\n",
       "    <tr>\n",
       "      <th>1999990</th>\n",
       "      <td>0.950467</td>\n",
       "      <td>-1.088105</td>\n",
       "      <td>-0.938710</td>\n",
       "      <td>-0.705287</td>\n",
       "      <td>c</td>\n",
       "    </tr>\n",
       "  </tbody>\n",
       "</table>\n",
       "<p>384413 rows × 5 columns</p>\n",
       "</div>"
      ],
      "text/plain": [
       "             col0      col1      col2      col3 key\n",
       "7        0.589930 -0.320719  0.831536  2.555476   a\n",
       "12      -0.466565 -0.467890  0.543636  0.442092   c\n",
       "13      -0.064274  1.430865 -1.012040  1.418107   e\n",
       "17       1.259945 -0.203664 -0.819146  2.202384   c\n",
       "35       0.628336  0.196329  0.743559  2.295062   b\n",
       "...           ...       ...       ...       ...  ..\n",
       "1999974  0.729830  0.707624  0.111283 -0.784053   b\n",
       "1999976  0.373706 -1.336258 -0.525003  0.171614   c\n",
       "1999979  0.731129 -0.906252 -0.731687 -0.508199   d\n",
       "1999989 -0.428265 -1.128659  0.991428 -0.077673   a\n",
       "1999990  0.950467 -1.088105 -0.938710 -0.705287   c\n",
       "\n",
       "[384413 rows x 5 columns]"
      ]
     },
     "execution_count": 17,
     "metadata": {},
     "output_type": "execute_result"
    }
   ],
   "source": [
    "%%time\n",
    "g2(df)"
   ]
  },
  {
   "cell_type": "markdown",
   "metadata": {},
   "source": [
    "## Лабораторная работа 3"
   ]
  },
  {
   "cell_type": "code",
   "execution_count": 18,
   "metadata": {},
   "outputs": [],
   "source": [
    "# !pip install line_profiler"
   ]
  },
  {
   "cell_type": "markdown",
   "metadata": {},
   "source": [
    "1. В файлах `recipes_sample.csv` и `reviews_sample.csv` (__ЛР 2__) находится информация об рецептах блюд и отзывах на эти рецепты соответственно. Загрузите данные из файлов в виде `pd.DataFrame` с названиями `recipes` и `reviews`. Обратите внимание на корректное считывание столбца(ов) с индексами. Приведите столбцы к нужным типам.\n",
    "\n",
    "Реализуйте несколько вариантов функции подсчета среднего значения столбца `rating` из таблицы `reviews` для отзывов, оставленных в 2010 году.\n",
    "\n",
    "A. С использованием метода `DataFrame.iterrows` исходной таблицы;\n",
    "\n",
    "Б. С использованием метода `DataFrame.iterrows` таблицы, в которой сохранены только отзывы за 2010 год;\n",
    "\n",
    "В. С использованием метода `Series.mean`.\n",
    "\n",
    "Проверьте, что результаты работы всех написанных функций корректны и совпадают. Измерьте выполнения всех написанных функций.\n"
   ]
  },
  {
   "cell_type": "code",
   "execution_count": 19,
   "metadata": {},
   "outputs": [],
   "source": [
    "import pandas as pd"
   ]
  },
  {
   "cell_type": "code",
   "execution_count": 20,
   "metadata": {},
   "outputs": [],
   "source": [
    "recipes = pd.read_csv('recipes_sample.csv')\n",
    "reviews = pd.read_csv('reviews_sample.csv')\n",
    "reviews['date'] = pd.to_datetime(reviews['date']) #str to datetime format"
   ]
  },
  {
   "cell_type": "code",
   "execution_count": 21,
   "metadata": {},
   "outputs": [
    {
     "data": {
      "text/plain": [
       "4.4544402182900615"
      ]
     },
     "execution_count": 21,
     "metadata": {},
     "output_type": "execute_result"
    }
   ],
   "source": [
    "def mean_rating_A(df):\n",
    "    total = 0\n",
    "    count = 0\n",
    "    for _, row in df.iterrows():\n",
    "        if row['date'].year == 2010:\n",
    "            total += row['rating']\n",
    "            count += 1\n",
    "    return total/count\n",
    "mean_rating_A(reviews)"
   ]
  },
  {
   "cell_type": "code",
   "execution_count": 22,
   "metadata": {},
   "outputs": [],
   "source": [
    "reviews_2010 = reviews[reviews[\"date\"].dt.year == 2010]"
   ]
  },
  {
   "cell_type": "code",
   "execution_count": 23,
   "metadata": {},
   "outputs": [
    {
     "data": {
      "text/plain": [
       "4.4544402182900615"
      ]
     },
     "execution_count": 23,
     "metadata": {},
     "output_type": "execute_result"
    }
   ],
   "source": [
    "def mean_rating_B(df):\n",
    "    total = 0\n",
    "    count = 0\n",
    "    for _, row in df.iterrows():\n",
    "        total += row[\"rating\"]\n",
    "        count += 1\n",
    "    return total / count\n",
    "mean_rating_B(reviews_2010)"
   ]
  },
  {
   "cell_type": "code",
   "execution_count": 24,
   "metadata": {},
   "outputs": [
    {
     "data": {
      "text/plain": [
       "4.4544402182900615"
      ]
     },
     "execution_count": 24,
     "metadata": {},
     "output_type": "execute_result"
    }
   ],
   "source": [
    "def mean_rating_C(df):\n",
    "    return df['rating'].mean()\n",
    "mean_rating_C(reviews_2010)"
   ]
  },
  {
   "cell_type": "markdown",
   "metadata": {},
   "source": [
    "2. Какая из созданных функций выполняется медленнее? Что наиболее сильно влияет на скорость выполнения? Для ответа использовать профайлер `line_profiler`. Сохраните результаты работы профайлера в отдельную текстовую ячейку и прокомментируйте результаты его работы.\n",
    "\n",
    "(*). Сможете ли вы ускорить работу функции 1Б, отказавшись от использования метода `iterrows`, но не используя метод `mean`?"
   ]
  },
  {
   "cell_type": "code",
   "execution_count": 25,
   "metadata": {},
   "outputs": [
    {
     "name": "stdout",
     "output_type": "stream",
     "text": [
      "Requirement already satisfied: line_profiler in c:\\anaconda\\lib\\site-packages (4.0.3)\n"
     ]
    }
   ],
   "source": [
    "!pip install line_profiler"
   ]
  },
  {
   "cell_type": "code",
   "execution_count": 26,
   "metadata": {},
   "outputs": [
    {
     "name": "stdout",
     "output_type": "stream",
     "text": [
      "Timer unit: 1e-07 s\n",
      "\n",
      "Total time: 0.0002989 s\n",
      "File: C:\\Users\\User\\AppData\\Local\\Temp\\ipykernel_15604\\1892587040.py\n",
      "Function: mean_rating_C at line 1\n",
      "\n",
      "Line #      Hits         Time  Per Hit   % Time  Line Contents\n",
      "==============================================================\n",
      "     1                                           def mean_rating_C(df):\n",
      "     2         1       2989.0   2989.0    100.0      return df['rating'].mean()\n",
      "\n",
      "Total time: 39.2074 s\n",
      "File: C:\\Users\\User\\AppData\\Local\\Temp\\ipykernel_15604\\599982591.py\n",
      "Function: mean_rating_A at line 1\n",
      "\n",
      "Line #      Hits         Time  Per Hit   % Time  Line Contents\n",
      "==============================================================\n",
      "     1                                           def mean_rating_A(df):\n",
      "     2         1         48.0     48.0      0.0      total = 0\n",
      "     3         1         25.0     25.0      0.0      count = 0\n",
      "     4    126696  326661048.0   2578.3     83.3      for _, row in df.iterrows():\n",
      "     5    114602   59829886.0    522.1     15.3          if row['date'].year == 2010:\n",
      "     6     12094    5415106.0    447.8      1.4              total += row['rating']\n",
      "     7     12094     167692.0     13.9      0.0              count += 1\n",
      "     8         1         14.0     14.0      0.0      return total/count\n",
      "\n",
      "Total time: 4.14258 s\n",
      "File: C:\\Users\\User\\AppData\\Local\\Temp\\ipykernel_15604\\606411533.py\n",
      "Function: mean_rating_B at line 1\n",
      "\n",
      "Line #      Hits         Time  Per Hit   % Time  Line Contents\n",
      "==============================================================\n",
      "     1                                           def mean_rating_B(df):\n",
      "     2         1         11.0     11.0      0.0      total = 0\n",
      "     3         1          6.0      6.0      0.0      count = 0\n",
      "     4     12094   34267198.0   2833.4     82.7      for _, row in df.iterrows():\n",
      "     5     12094    6999753.0    578.8     16.9          total += row[\"rating\"]\n",
      "     6     12094     158804.0     13.1      0.4          count += 1\n",
      "     7         1         14.0     14.0      0.0      return total / count\n",
      "\n"
     ]
    }
   ],
   "source": [
    "from line_profiler import LineProfiler\n",
    "lp = LineProfiler()\n",
    "lp_wrapper_A = lp(mean_rating_A)\n",
    "lp_wrapper_B = lp(mean_rating_B)\n",
    "lp_wrapper_C = lp(mean_rating_C)\n",
    "\n",
    "lp_wrapper_A(reviews)\n",
    "lp_wrapper_B(reviews_2010)\n",
    "lp_wrapper_C(reviews_2010)\n",
    "lp.print_stats()"
   ]
  },
  {
   "cell_type": "markdown",
   "metadata": {},
   "source": [
    "можем заметить, что фунцкия A выполняется дольше всего"
   ]
  },
  {
   "cell_type": "code",
   "execution_count": 27,
   "metadata": {},
   "outputs": [
    {
     "data": {
      "text/plain": [
       "4.4544402182900615"
      ]
     },
     "execution_count": 27,
     "metadata": {},
     "output_type": "execute_result"
    }
   ],
   "source": [
    "#оптимизируем функцию Б\n",
    "def mean_rating_B2(df):\n",
    "    total = reviews_2010[\"rating\"].sum()\n",
    "    count = reviews_2010[\"rating\"].count()\n",
    "    return total/count\n",
    "mean_rating_B2(reviews_2010)"
   ]
  },
  {
   "cell_type": "code",
   "execution_count": 28,
   "metadata": {},
   "outputs": [
    {
     "name": "stdout",
     "output_type": "stream",
     "text": [
      "Timer unit: 1e-07 s\n",
      "\n",
      "Total time: 0.0002989 s\n",
      "File: C:\\Users\\User\\AppData\\Local\\Temp\\ipykernel_15604\\1892587040.py\n",
      "Function: mean_rating_C at line 1\n",
      "\n",
      "Line #      Hits         Time  Per Hit   % Time  Line Contents\n",
      "==============================================================\n",
      "     1                                           def mean_rating_C(df):\n",
      "     2         1       2989.0   2989.0    100.0      return df['rating'].mean()\n",
      "\n",
      "Total time: 39.2074 s\n",
      "File: C:\\Users\\User\\AppData\\Local\\Temp\\ipykernel_15604\\599982591.py\n",
      "Function: mean_rating_A at line 1\n",
      "\n",
      "Line #      Hits         Time  Per Hit   % Time  Line Contents\n",
      "==============================================================\n",
      "     1                                           def mean_rating_A(df):\n",
      "     2         1         48.0     48.0      0.0      total = 0\n",
      "     3         1         25.0     25.0      0.0      count = 0\n",
      "     4    126696  326661048.0   2578.3     83.3      for _, row in df.iterrows():\n",
      "     5    114602   59829886.0    522.1     15.3          if row['date'].year == 2010:\n",
      "     6     12094    5415106.0    447.8      1.4              total += row['rating']\n",
      "     7     12094     167692.0     13.9      0.0              count += 1\n",
      "     8         1         14.0     14.0      0.0      return total/count\n",
      "\n",
      "Total time: 4.14258 s\n",
      "File: C:\\Users\\User\\AppData\\Local\\Temp\\ipykernel_15604\\606411533.py\n",
      "Function: mean_rating_B at line 1\n",
      "\n",
      "Line #      Hits         Time  Per Hit   % Time  Line Contents\n",
      "==============================================================\n",
      "     1                                           def mean_rating_B(df):\n",
      "     2         1         11.0     11.0      0.0      total = 0\n",
      "     3         1          6.0      6.0      0.0      count = 0\n",
      "     4     12094   34267198.0   2833.4     82.7      for _, row in df.iterrows():\n",
      "     5     12094    6999753.0    578.8     16.9          total += row[\"rating\"]\n",
      "     6     12094     158804.0     13.1      0.4          count += 1\n",
      "     7         1         14.0     14.0      0.0      return total / count\n",
      "\n"
     ]
    }
   ],
   "source": [
    "lp.print_stats()"
   ]
  },
  {
   "cell_type": "markdown",
   "metadata": {},
   "source": [
    "как можем заметить, новвя функция В2(Total time: 0.0013574s) работает быстрее В(Total time: 0.764237s)"
   ]
  },
  {
   "cell_type": "markdown",
   "metadata": {},
   "source": [
    "3. Вам предлагается воспользоваться функцией, которая собирает статистику о том, сколько отзывов содержат то или иное слово. Измерьте время выполнения этой функции. Сможете ли вы найти узкие места в коде, используя профайлер? Выпишите (словами), что в имеющемся коде реализовано неоптимально. Оптимизируйте функцию и добейтесь значительного (как минимум, на один порядок) прироста в скорости выполнения."
   ]
  },
  {
   "cell_type": "code",
   "execution_count": 29,
   "metadata": {},
   "outputs": [],
   "source": [
    "def get_word_reviews_count(df):\n",
    "    word_reviews = {}\n",
    "    for _, row in df.dropna(subset=['review']).iterrows():\n",
    "        recipe_id, review = row['recipe_id'], row['review']\n",
    "        words = review.split(' ')\n",
    "        for word in words:\n",
    "            if word not in word_reviews:\n",
    "                word_reviews[word] = []\n",
    "            word_reviews[word].append(recipe_id)\n",
    "    \n",
    "    word_reviews_count = {}\n",
    "    for _, row in df.dropna(subset=['review']).iterrows():\n",
    "        review = row['review']\n",
    "        words = review.split(' ')\n",
    "        for word in words:\n",
    "            word_reviews_count[word] = len(word_reviews[word])\n",
    "    return word_reviews_count"
   ]
  },
  {
   "cell_type": "code",
   "execution_count": 30,
   "metadata": {},
   "outputs": [],
   "source": [
    "from collections import Counter\n",
    "\n",
    "def get_word_reviews_count_optimized(df):\n",
    "    words_counts = Counter()\n",
    "    df_without_na = df.dropna(subset=[\"review\"])\n",
    "\n",
    "    def update_word_counts(row):\n",
    "        words = set(row)\n",
    "        words_counts.update(words)\n",
    "    \n",
    "    pattern = r\"[^A-Za-z\\s]\"\n",
    "    df_without_na['review'].str.replace(pattern, \"\").str.lower().str.split(\" \").apply(update_word_counts)\n",
    "\n",
    "\n",
    "    return dict(words_counts.items())"
   ]
  },
  {
   "cell_type": "code",
   "execution_count": 31,
   "metadata": {},
   "outputs": [
    {
     "name": "stderr",
     "output_type": "stream",
     "text": [
      "C:\\Users\\User\\AppData\\Local\\Temp\\ipykernel_15604\\2638786537.py:12: FutureWarning: The default value of regex will change from True to False in a future version.\n",
      "  df_without_na['review'].str.replace(pattern, \"\").str.lower().str.split(\" \").apply(update_word_counts)\n"
     ]
    },
    {
     "name": "stdout",
     "output_type": "stream",
     "text": [
      "Timer unit: 1e-07 s\n",
      "\n",
      "Total time: 0.0002989 s\n",
      "File: C:\\Users\\User\\AppData\\Local\\Temp\\ipykernel_15604\\1892587040.py\n",
      "Function: mean_rating_C at line 1\n",
      "\n",
      "Line #      Hits         Time  Per Hit   % Time  Line Contents\n",
      "==============================================================\n",
      "     1                                           def mean_rating_C(df):\n",
      "     2         1       2989.0   2989.0    100.0      return df['rating'].mean()\n",
      "\n",
      "Total time: 10.4442 s\n",
      "File: C:\\Users\\User\\AppData\\Local\\Temp\\ipykernel_15604\\2638786537.py\n",
      "Function: get_word_reviews_count_optimized at line 3\n",
      "\n",
      "Line #      Hits         Time  Per Hit   % Time  Line Contents\n",
      "==============================================================\n",
      "     3                                           def get_word_reviews_count_optimized(df):\n",
      "     4         1        122.0    122.0      0.0      words_counts = Counter()\n",
      "     5         1     418381.0 418381.0      0.4      df_without_na = df.dropna(subset=[\"review\"])\n",
      "     6                                           \n",
      "     7         1         28.0     28.0      0.0      def update_word_counts(row):\n",
      "     8                                                   words = set(row)\n",
      "     9                                                   words_counts.update(words)\n",
      "    10                                               \n",
      "    11         1          9.0      9.0      0.0      pattern = r\"[^A-Za-z\\s]\"\n",
      "    12         1  103353235.0 103353235.0     99.0      df_without_na['review'].str.replace(pattern, \"\").str.lower().str.split(\" \").apply(update_word_counts)\n",
      "    13                                           \n",
      "    14                                           \n",
      "    15         1     670272.0 670272.0      0.6      return dict(words_counts.items())\n",
      "\n",
      "Total time: 155.336 s\n",
      "File: C:\\Users\\User\\AppData\\Local\\Temp\\ipykernel_15604\\2826575548.py\n",
      "Function: get_word_reviews_count at line 1\n",
      "\n",
      "Line #      Hits         Time  Per Hit   % Time  Line Contents\n",
      "==============================================================\n",
      "     1                                           def get_word_reviews_count(df):\n",
      "     2         1          7.0      7.0      0.0      word_reviews = {}\n",
      "     3    126679  436642820.0   3446.8     28.1      for _, row in df.dropna(subset=['review']).iterrows():\n",
      "     4    126679  153478690.0   1211.6      9.9          recipe_id, review = row['recipe_id'], row['review']\n",
      "     5    126679   19138166.0    151.1      1.2          words = review.split(' ')\n",
      "     6   6792010   61805801.0      9.1      4.0          for word in words:\n",
      "     7   6617066   88139164.0     13.3      5.7              if word not in word_reviews:\n",
      "     8    174944    2900256.0     16.6      0.2                  word_reviews[word] = []\n",
      "     9   6792010  107431962.0     15.8      6.9              word_reviews[word].append(recipe_id)\n",
      "    10                                               \n",
      "    11         1          8.0      8.0      0.0      word_reviews_count = {}\n",
      "    12    126679  390080462.0   3079.3     25.1      for _, row in df.dropna(subset=['review']).iterrows():\n",
      "    13    126679   77902314.0    615.0      5.0          review = row['review']\n",
      "    14    126679   17286552.0    136.5      1.1          words = review.split(' ')\n",
      "    15   6792010   58429035.0      8.6      3.8          for word in words:\n",
      "    16   6792010  140129630.0     20.6      9.0              word_reviews_count[word] = len(word_reviews[word])\n",
      "    17         1         17.0     17.0      0.0      return word_reviews_count\n",
      "\n",
      "Total time: 39.2074 s\n",
      "File: C:\\Users\\User\\AppData\\Local\\Temp\\ipykernel_15604\\599982591.py\n",
      "Function: mean_rating_A at line 1\n",
      "\n",
      "Line #      Hits         Time  Per Hit   % Time  Line Contents\n",
      "==============================================================\n",
      "     1                                           def mean_rating_A(df):\n",
      "     2         1         48.0     48.0      0.0      total = 0\n",
      "     3         1         25.0     25.0      0.0      count = 0\n",
      "     4    126696  326661048.0   2578.3     83.3      for _, row in df.iterrows():\n",
      "     5    114602   59829886.0    522.1     15.3          if row['date'].year == 2010:\n",
      "     6     12094    5415106.0    447.8      1.4              total += row['rating']\n",
      "     7     12094     167692.0     13.9      0.0              count += 1\n",
      "     8         1         14.0     14.0      0.0      return total/count\n",
      "\n",
      "Total time: 4.14258 s\n",
      "File: C:\\Users\\User\\AppData\\Local\\Temp\\ipykernel_15604\\606411533.py\n",
      "Function: mean_rating_B at line 1\n",
      "\n",
      "Line #      Hits         Time  Per Hit   % Time  Line Contents\n",
      "==============================================================\n",
      "     1                                           def mean_rating_B(df):\n",
      "     2         1         11.0     11.0      0.0      total = 0\n",
      "     3         1          6.0      6.0      0.0      count = 0\n",
      "     4     12094   34267198.0   2833.4     82.7      for _, row in df.iterrows():\n",
      "     5     12094    6999753.0    578.8     16.9          total += row[\"rating\"]\n",
      "     6     12094     158804.0     13.1      0.4          count += 1\n",
      "     7         1         14.0     14.0      0.0      return total / count\n",
      "\n"
     ]
    }
   ],
   "source": [
    "lp_get_word_reviews_count = lp(get_word_reviews_count)\n",
    "lp_get_word_reviews_count(reviews)\n",
    "lp_get_word_reviews_count_optimized = lp(get_word_reviews_count_optimized)\n",
    "lp_get_word_reviews_count_optimized(reviews)\n",
    "lp.print_stats()"
   ]
  },
  {
   "cell_type": "markdown",
   "metadata": {},
   "source": [
    "Как можем заметить оптимизированный код выполняпется за Total time: 2.84945 s, когда изначальный код выполняется за Total time: 32.4375 s "
   ]
  },
  {
   "cell_type": "markdown",
   "metadata": {},
   "source": [
    "4. Напишите несколько версий функции `MAPE` (см. [MAPE](https://en.wikipedia.org/wiki/Mean_absolute_percentage_error)) для расчета среднего абсолютного процентного отклонения значения рейтинга отзыва на рецепт от среднего значения рейтинга по всем отзывам для этого рецепта. \n",
    "    1. Без использования векторизованных операций и методов массивов `numpy` и без использования `numba`\n",
    "    2. Без использования векторизованных операций и методов массивов `numpy`, но с использованием `numba`\n",
    "    3. С использованием векторизованных операций и методов массивов `numpy`, но без использования `numba`\n",
    "    4. C использованием векторизованных операций и методов массивов `numpy` и `numba`\n",
    "    \n",
    "Измерьте время выполнения каждой из реализаций.\n",
    "\n",
    "Замечание: удалите из выборки отзывы с нулевым рейтингом.\n"
   ]
  },
  {
   "cell_type": "code",
   "execution_count": 38,
   "metadata": {},
   "outputs": [
    {
     "data": {
      "text/plain": [
       "51.64167955430349"
      ]
     },
     "execution_count": 38,
     "metadata": {},
     "output_type": "execute_result"
    }
   ],
   "source": [
    "#Без использования векторизованных операций и методов массивов numpy и без использования numba:\n",
    "def MAPE_A(df):\n",
    "    ratings = [r for r in df['rating'] if r != 0]\n",
    "    mean_rating = sum(ratings) / len(ratings)\n",
    "    abs_diff = 0\n",
    "    for r in ratings:\n",
    "        abs_diff += abs(r - mean_rating)\n",
    "    return abs_diff / len(ratings) * 100\n",
    "MAPE(reviews)"
   ]
  },
  {
   "cell_type": "code",
   "execution_count": null,
   "metadata": {},
   "outputs": [],
   "source": [
    "#Без использования векторизованных операций и методов массивов numpy, но с использованием numba\n",
    "import numba \n",
    "\n",
    "@numba.jit(nopython=True)\n",
    "def MAPE(reviews):\n",
    "    ratings = [r for r in reviews['rating'] if r != 0]\n",
    "    mean_rating = sum(ratings) / len(ratings)\n",
    "    abs_diff = 0\n",
    "    for r in ratings:\n",
    "        abs_diff += abs(r - mean_rating)\n",
    "    return abs_diff / len(ratings) * 100\n",
    "MAPE(reviews)"
   ]
  },
  {
   "cell_type": "code",
   "execution_count": 47,
   "metadata": {},
   "outputs": [
    {
     "data": {
      "text/plain": [
       "51.64167955432964"
      ]
     },
     "execution_count": 47,
     "metadata": {},
     "output_type": "execute_result"
    }
   ],
   "source": [
    "#С использованием векторизованных операций и методов массивов numpy, но без использования numba:\n",
    "\n",
    "import numpy as np\n",
    "\n",
    "def MAPE_C(reviews):\n",
    "    ratings = np.array([r for r in reviews['rating'] if r != 0])\n",
    "    mean_rating = np.mean(ratings)\n",
    "    abs_diff = np.sum(np.abs(ratings - mean_rating))\n",
    "    return abs_diff / len(ratings) * 100\n",
    "MAPE_C(reviews)"
   ]
  }
 ],
 "metadata": {
  "kernelspec": {
   "display_name": "Python 3 (ipykernel)",
   "language": "python",
   "name": "python3"
  },
  "language_info": {
   "codemirror_mode": {
    "name": "ipython",
    "version": 3
   },
   "file_extension": ".py",
   "mimetype": "text/x-python",
   "name": "python",
   "nbconvert_exporter": "python",
   "pygments_lexer": "ipython3",
   "version": "3.9.12"
  }
 },
 "nbformat": 4,
 "nbformat_minor": 4
}
